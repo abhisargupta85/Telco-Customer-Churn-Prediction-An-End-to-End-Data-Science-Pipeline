{
 "cells": [
  {
   "cell_type": "markdown",
   "id": "028d377d",
   "metadata": {},
   "source": [
    "### Telco Customer Churn Prediction Project"
   ]
  },
  {
   "cell_type": "markdown",
   "id": "4ab89cb4",
   "metadata": {},
   "source": [
    "### Stage 1: Data Collection & Cleaning"
   ]
  },
  {
   "cell_type": "code",
   "execution_count": 10,
   "id": "f712a94e",
   "metadata": {},
   "outputs": [],
   "source": [
    "import pandas as pd\n",
    "import numpy as np"
   ]
  },
  {
   "cell_type": "markdown",
   "id": "dae198e5",
   "metadata": {},
   "source": [
    "### 1. Data Collection"
   ]
  },
  {
   "cell_type": "code",
   "execution_count": 11,
   "id": "241f2797",
   "metadata": {},
   "outputs": [
    {
     "name": "stdout",
     "output_type": "stream",
     "text": [
      "Successfully loaded dataset with 7043 rows and 21 columns.\n",
      "\n"
     ]
    }
   ],
   "source": [
    "try:\n",
    "    df = pd.read_csv('WA_Fn-UseC_-Telco-Customer-Churn.csv')\n",
    "    print(f\"Successfully loaded dataset with {df.shape[0]} rows and {df.shape[1]} columns.\\n\")\n",
    "except FileNotFoundError:\n",
    "    print(\"Error: 'WA_Fn-UseC_-Telco-Customer-Churn.csv' not found. Please ensure the file is in the correct directory.\")\n",
    "    # Creating a dummy DataFrame to allow the script to proceed for demonstration purposes\n",
    "    # In a real scenario, the script would exit here.\n",
    "    data = {\n",
    "        'customerID': [7590, 5575, 4190],\n",
    "        'gender': ['Female', 'Male', 'Female'],\n",
    "        'SeniorCitizen': [0, 0, 0],\n",
    "        'Partner': ['Yes', 'No', 'No'],\n",
    "        'Dependents': ['No', 'No', 'No'],\n",
    "        'tenure': [1, 34, 2],\n",
    "        'PhoneService': ['No', 'Yes', 'Yes'],\n",
    "        'MultipleLines': ['No phone service', 'No', 'No'],\n",
    "        'InternetService': ['DSL', 'DSL', 'DSL'],\n",
    "        'OnlineSecurity': ['No', 'Yes', 'Yes'],\n",
    "        'OnlineBackup': ['Yes', 'No', 'Yes'],\n",
    "        'DeviceProtection': ['No', 'Yes', 'No'],\n",
    "        'TechSupport': ['No', 'No', 'No'],\n",
    "        'StreamingTV': ['No', 'No', 'No'],\n",
    "        'StreamingMovies': ['No', 'No', 'No'],\n",
    "        'Contract': ['Month-to-month', 'One year', 'Month-to-month'],\n",
    "        'PaperlessBilling': ['Yes', 'No', 'Yes'],\n",
    "        'PaymentMethod': ['Electronic check', 'Mailed check', 'Mailed check'],\n",
    "        'MonthlyCharges': [29.85, 56.95, 53.85],\n",
    "        'TotalCharges': ['29.85', '1889.5', '108.15'],\n",
    "        'Churn': ['No', 'No', 'Yes']\n",
    "    }\n",
    "    df = pd.DataFrame(data)"
   ]
  },
  {
   "cell_type": "code",
   "execution_count": 12,
   "id": "972ca694",
   "metadata": {},
   "outputs": [
    {
     "name": "stdout",
     "output_type": "stream",
     "text": [
      "--- Initial Data Structure (df.info()) ---\n",
      "\n",
      "<class 'pandas.core.frame.DataFrame'>\n",
      "RangeIndex: 7043 entries, 0 to 7042\n",
      "Data columns (total 21 columns):\n",
      " #   Column            Non-Null Count  Dtype  \n",
      "---  ------            --------------  -----  \n",
      " 0   customerID        7043 non-null   object \n",
      " 1   gender            7043 non-null   object \n",
      " 2   SeniorCitizen     7043 non-null   int64  \n",
      " 3   Partner           7043 non-null   object \n",
      " 4   Dependents        7043 non-null   object \n",
      " 5   tenure            7043 non-null   int64  \n",
      " 6   PhoneService      7043 non-null   object \n",
      " 7   MultipleLines     7043 non-null   object \n",
      " 8   InternetService   7043 non-null   object \n",
      " 9   OnlineSecurity    7043 non-null   object \n",
      " 10  OnlineBackup      7043 non-null   object \n",
      " 11  DeviceProtection  7043 non-null   object \n",
      " 12  TechSupport       7043 non-null   object \n",
      " 13  StreamingTV       7043 non-null   object \n",
      " 14  StreamingMovies   7043 non-null   object \n",
      " 15  Contract          7043 non-null   object \n",
      " 16  PaperlessBilling  7043 non-null   object \n",
      " 17  PaymentMethod     7043 non-null   object \n",
      " 18  MonthlyCharges    7043 non-null   float64\n",
      " 19  TotalCharges      7043 non-null   object \n",
      " 20  Churn             7043 non-null   object \n",
      "dtypes: float64(1), int64(2), object(18)\n",
      "memory usage: 1.1+ MB\n",
      "\n",
      "\n"
     ]
    }
   ],
   "source": [
    "print(\"--- Initial Data Structure (df.info()) ---\\n\")\n",
    "df.info()\n",
    "print(\"\\n\")"
   ]
  },
  {
   "cell_type": "markdown",
   "id": "2f7bd403",
   "metadata": {},
   "source": [
    "### 2. Data Cleaning: Identifying and Resolving Issues"
   ]
  },
  {
   "cell_type": "code",
   "execution_count": 13,
   "id": "0d6099dd",
   "metadata": {},
   "outputs": [
    {
     "name": "stdout",
     "output_type": "stream",
     "text": [
      "--- 2.1. Handling 'TotalCharges' Data Type Issue ---\n",
      "\n",
      "After attempted conversion, checking for newly introduced missing values\n",
      "Total NaN values found in 'TotalCharges': 11\n",
      "\n"
     ]
    }
   ],
   "source": [
    "# 2.1. Handling Inconsistent Data Types (TotalCharges)\n",
    "print(\"--- 2.1. Handling 'TotalCharges' Data Type Issue ---\\n\")\n",
    "\n",
    "# The initial info() shows 'TotalCharges' is an object (string), but it should be numeric.\n",
    "# I used pd.to_numeric with errors='coerce' to turn non-numeric strings (likely spaces or hyphens) into NaN.\n",
    "df['TotalCharges'] = pd.to_numeric(df['TotalCharges'], errors='coerce')\n",
    "\n",
    "print(\"After attempted conversion, checking for newly introduced missing values\")\n",
    "missing_values_count = df['TotalCharges'].isnull().sum()\n",
    "print(f\"Total NaN values found in 'TotalCharges': {missing_values_count}\\n\")"
   ]
  },
  {
   "cell_type": "code",
   "execution_count": 14,
   "id": "4894f224",
   "metadata": {},
   "outputs": [
    {
     "name": "stdout",
     "output_type": "stream",
     "text": [
      "\n",
      "--- 2.2. Handling Missing Values in 'TotalCharges' ---\n",
      "\n",
      "Dropping 11 rows where 'TotalCharges' is NaN (these are new customers with tenure 0).\n",
      "Dataset size after dropping NaN rows: 7032 rows.\n",
      "\n",
      "Verifying 'TotalCharges' dtype after cleanup:\n",
      "\n",
      "<class 'pandas.core.frame.DataFrame'>\n",
      "Int64Index: 7032 entries, 0 to 7042\n",
      "Data columns (total 21 columns):\n",
      " #   Column            Non-Null Count  Dtype  \n",
      "---  ------            --------------  -----  \n",
      " 0   customerID        7032 non-null   object \n",
      " 1   gender            7032 non-null   object \n",
      " 2   SeniorCitizen     7032 non-null   int64  \n",
      " 3   Partner           7032 non-null   object \n",
      " 4   Dependents        7032 non-null   object \n",
      " 5   tenure            7032 non-null   int64  \n",
      " 6   PhoneService      7032 non-null   object \n",
      " 7   MultipleLines     7032 non-null   object \n",
      " 8   InternetService   7032 non-null   object \n",
      " 9   OnlineSecurity    7032 non-null   object \n",
      " 10  OnlineBackup      7032 non-null   object \n",
      " 11  DeviceProtection  7032 non-null   object \n",
      " 12  TechSupport       7032 non-null   object \n",
      " 13  StreamingTV       7032 non-null   object \n",
      " 14  StreamingMovies   7032 non-null   object \n",
      " 15  Contract          7032 non-null   object \n",
      " 16  PaperlessBilling  7032 non-null   object \n",
      " 17  PaymentMethod     7032 non-null   object \n",
      " 18  MonthlyCharges    7032 non-null   float64\n",
      " 19  TotalCharges      7032 non-null   float64\n",
      " 20  Churn             7032 non-null   object \n",
      "dtypes: float64(2), int64(2), object(17)\n",
      "memory usage: 1.2+ MB\n"
     ]
    }
   ],
   "source": [
    "# Analysis of missing 'TotalCharges':\n",
    "# These 11 missing values typically correspond to customers with a 'tenure' of 0 (new customers)\n",
    "# who have not yet accumulated any total charges.\n",
    "\n",
    "\n",
    "# 2.2. Handling Missing Values\n",
    "print(\"\\n--- 2.2. Handling Missing Values in 'TotalCharges' ---\\n\")\n",
    "\n",
    "if missing_values_count > 0:\n",
    "    # Professional Decision: Given that the number of missing rows is very small (around 0.15% of the data),\n",
    "    # and they represent new customers (tenure=0), dropping them is the safest option.\n",
    "    # Imputing '0' could introduce bias, and dropping a few rows is better than corrupting the feature.\n",
    "    print(f\"Dropping {missing_values_count} rows where 'TotalCharges' is NaN (these are new customers with tenure 0).\")\n",
    "    df.dropna(subset=['TotalCharges'], inplace=True)\n",
    "    print(f\"Dataset size after dropping NaN rows: {df.shape[0]} rows.\")\n",
    "else:\n",
    "    print(\"No missing values detected in 'TotalCharges' after conversion. No rows dropped.\")\n",
    "\n",
    "# Verify that TotalCharges is now numeric\n",
    "print(\"\\nVerifying 'TotalCharges' dtype after cleanup:\\n\")\n",
    "df.info()"
   ]
  },
  {
   "cell_type": "code",
   "execution_count": 15,
   "id": "afd82278",
   "metadata": {},
   "outputs": [
    {
     "name": "stdout",
     "output_type": "stream",
     "text": [
      "\n",
      "--- 2.3. Handling Irrelevant Columns (customerID) ---\n",
      "\n",
      "Dropped 'customerID' column. Columns remaining: 20\n"
     ]
    }
   ],
   "source": [
    "print(\"\\n--- 2.3. Handling Irrelevant Columns (customerID) ---\\n\")\n",
    "\n",
    "# The 'customerID' is a unique identifier and holds no predictive power for the model.\n",
    "df.drop('customerID', axis=1, inplace=True)\n",
    "print(\"Dropped 'customerID' column. Columns remaining:\", df.shape[1])"
   ]
  },
  {
   "cell_type": "code",
   "execution_count": 16,
   "id": "95584021",
   "metadata": {},
   "outputs": [
    {
     "name": "stdout",
     "output_type": "stream",
     "text": [
      "\n",
      "--- 2.4. Correcting Target Variable Encoding ('Churn') ---\n",
      "\n",
      "Target variable 'Churn' converted from {'Yes', 'No'} to {1, 0}.\n",
      "\n",
      "Churn value counts:\n",
      "0    5163\n",
      "1    1869\n",
      "Name: Churn, dtype: int64\n"
     ]
    }
   ],
   "source": [
    "print(\"\\n--- 2.4. Correcting Target Variable Encoding ('Churn') ---\\n\")\n",
    "\n",
    "# The target variable 'Churn' should be numeric (0 or 1) for modeling:\n",
    "df['Churn'] = df['Churn'].replace({'Yes': 1, 'No': 0})\n",
    "print(\"Target variable 'Churn' converted from {'Yes', 'No'} to {1, 0}.\\n\")\n",
    "print(f\"Churn value counts:\\n{df['Churn'].value_counts()}\")"
   ]
  },
  {
   "cell_type": "code",
   "execution_count": 17,
   "id": "a84ca8a2",
   "metadata": {},
   "outputs": [
    {
     "name": "stdout",
     "output_type": "stream",
     "text": [
      "\n",
      "--- Final Data Structure Check (Post-Cleaning) ---\n",
      "\n",
      "First 5 rows of the cleaned DataFrame:\n",
      "\n",
      "   gender  SeniorCitizen Partner Dependents  tenure PhoneService  \\\n",
      "0  Female              0     Yes         No       1           No   \n",
      "1    Male              0      No         No      34          Yes   \n",
      "2    Male              0      No         No       2          Yes   \n",
      "3    Male              0      No         No      45           No   \n",
      "4  Female              0      No         No       2          Yes   \n",
      "\n",
      "      MultipleLines InternetService OnlineSecurity OnlineBackup  \\\n",
      "0  No phone service             DSL             No          Yes   \n",
      "1                No             DSL            Yes           No   \n",
      "2                No             DSL            Yes          Yes   \n",
      "3  No phone service             DSL            Yes           No   \n",
      "4                No     Fiber optic             No           No   \n",
      "\n",
      "  DeviceProtection TechSupport StreamingTV StreamingMovies        Contract  \\\n",
      "0               No          No          No              No  Month-to-month   \n",
      "1              Yes          No          No              No        One year   \n",
      "2               No          No          No              No  Month-to-month   \n",
      "3              Yes         Yes          No              No        One year   \n",
      "4               No          No          No              No  Month-to-month   \n",
      "\n",
      "  PaperlessBilling              PaymentMethod  MonthlyCharges  TotalCharges  \\\n",
      "0              Yes           Electronic check           29.85         29.85   \n",
      "1               No               Mailed check           56.95       1889.50   \n",
      "2              Yes               Mailed check           53.85        108.15   \n",
      "3               No  Bank transfer (automatic)           42.30       1840.75   \n",
      "4              Yes           Electronic check           70.70        151.65   \n",
      "\n",
      "   Churn  \n",
      "0      0  \n",
      "1      0  \n",
      "2      1  \n",
      "3      0  \n",
      "4      1  \n",
      "\n",
      "Final column types:\n",
      "\n",
      "<class 'pandas.core.frame.DataFrame'>\n",
      "Int64Index: 7032 entries, 0 to 7042\n",
      "Data columns (total 20 columns):\n",
      " #   Column            Non-Null Count  Dtype  \n",
      "---  ------            --------------  -----  \n",
      " 0   gender            7032 non-null   object \n",
      " 1   SeniorCitizen     7032 non-null   int64  \n",
      " 2   Partner           7032 non-null   object \n",
      " 3   Dependents        7032 non-null   object \n",
      " 4   tenure            7032 non-null   int64  \n",
      " 5   PhoneService      7032 non-null   object \n",
      " 6   MultipleLines     7032 non-null   object \n",
      " 7   InternetService   7032 non-null   object \n",
      " 8   OnlineSecurity    7032 non-null   object \n",
      " 9   OnlineBackup      7032 non-null   object \n",
      " 10  DeviceProtection  7032 non-null   object \n",
      " 11  TechSupport       7032 non-null   object \n",
      " 12  StreamingTV       7032 non-null   object \n",
      " 13  StreamingMovies   7032 non-null   object \n",
      " 14  Contract          7032 non-null   object \n",
      " 15  PaperlessBilling  7032 non-null   object \n",
      " 16  PaymentMethod     7032 non-null   object \n",
      " 17  MonthlyCharges    7032 non-null   float64\n",
      " 18  TotalCharges      7032 non-null   float64\n",
      " 19  Churn             7032 non-null   int64  \n",
      "dtypes: float64(2), int64(3), object(15)\n",
      "memory usage: 1.1+ MB\n"
     ]
    }
   ],
   "source": [
    "# 2.5. Final Data Structure\n",
    "print(\"\\n--- Final Data Structure Check (Post-Cleaning) ---\\n\")\n",
    "print(\"First 5 rows of the cleaned DataFrame:\\n\")\n",
    "print(df.head())\n",
    "print(\"\\nFinal column types:\\n\")\n",
    "df.info()"
   ]
  },
  {
   "cell_type": "code",
   "execution_count": 18,
   "id": "59c88b45",
   "metadata": {},
   "outputs": [
    {
     "name": "stdout",
     "output_type": "stream",
     "text": [
      "\n",
      "Cleaned data saved to 'cleaned_telco_churn_data.csv'\n"
     ]
    }
   ],
   "source": [
    "# Save the cleaned DataFrame\n",
    "df.to_csv('cleaned_telco_churn_data.csv', index=False)\n",
    "print(\"\\nCleaned data saved to 'cleaned_telco_churn_data.csv'\")\n"
   ]
  }
 ],
 "metadata": {
  "kernelspec": {
   "display_name": "Python 3 (ipykernel)",
   "language": "python",
   "name": "python3"
  },
  "language_info": {
   "codemirror_mode": {
    "name": "ipython",
    "version": 3
   },
   "file_extension": ".py",
   "mimetype": "text/x-python",
   "name": "python",
   "nbconvert_exporter": "python",
   "pygments_lexer": "ipython3",
   "version": "3.10.9"
  }
 },
 "nbformat": 4,
 "nbformat_minor": 5
}
